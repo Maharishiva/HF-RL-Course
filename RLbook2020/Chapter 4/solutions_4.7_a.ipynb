{
 "cells": [
  {
   "cell_type": "markdown",
   "metadata": {},
   "source": [
    "# Exersies: 4.1 - 4.7 "
   ]
  },
  {
   "cell_type": "markdown",
   "metadata": {},
   "source": [
    "## Exersies 4.1"
   ]
  },
  {
   "cell_type": "markdown",
   "metadata": {},
   "source": [
    "The nonterminal states are S = {1, 2, . . . , 14}. There are four actions possible in each state, A = {up, down, right, left}, which deterministically cause the corresponding state transitions, except that actions that would take the agent o↵ the grid in fact leave the state unchanged.\n",
    " Thus, for instance, p(6,-1|5,right) = 1, p(7,-1|7,right) = 1, and p(10,r|5,right) = 0 for all r 2 R. This is an undiscounted, episodic task. The reward is -1 on all transitions until the terminal state is reached. \n",
    " The terminal state is shaded in the figure (although it is shown in two places, it is formally one state). The expected reward function is thus r(s, a, s0) = -1 for all states s, s0 and actions a. Suppose the agent follows the equiprobable random policy (all actions equally likely). \n",
    " The left side of Figure 4.1 shows the sequence of value functions {vk} computed by iterative policy evaluation.\n",
    "  The final estimate is in fact v⇡, which in this case gives for each state the negation of the expected number of steps from that state until termination."
   ]
  },
  {
   "cell_type": "code",
   "execution_count": 56,
   "metadata": {},
   "outputs": [],
   "source": [
    "# Define State Space\n",
    "\n",
    "class GredEnv:\n",
    "    def __init__(self):\n",
    "        self.States = np.arange(16)\n",
    "        self.Actions = np.arange(4)\n",
    "        self.World = self.States.reshape(4, 4)\n",
    "        self.Terminal = [0, 15]\n",
    "        self.reword = -1\n",
    "        self.state = np.random.choice(self.States[1:-1])\n",
    "    \n",
    "    def step(self,action):\n",
    "\n",
    "        reword = self.reword\n",
    "        done = False\n",
    "\n",
    "        if self.state in self.Terminal: # if the agent is in terminal state\n",
    "            done = True\n",
    "            reword = 0\n",
    "\n",
    "            self.state = self.state\n",
    "\n",
    "        elif action == 0: # up\n",
    "            if self.state < 4:\n",
    "                self.state = self.state\n",
    "            else:\n",
    "                self.state -= 4\n",
    "        elif action == 1: # left\n",
    "            if self.state % 4 == 0:\n",
    "                self.state = self.state\n",
    "            else:\n",
    "                self.state -= 1 \n",
    "        elif action == 2: # down\n",
    "            if self.state > 11:\n",
    "                self.state = self.state\n",
    "            else:\n",
    "                self.state += 4\n",
    "        elif action == 3: # right\n",
    "            if self.state % 4 == 3:\n",
    "                self.state = self.state\n",
    "            else:\n",
    "                self.state += 1\n",
    "        else:\n",
    "            done = False    \n",
    "        \n",
    "        return self.state, reword, done\n",
    "    \n",
    "    def reset(self):\n",
    "        self.state = np.random.choice(self.States[1:-1])\n",
    "        return self.state\n",
    "        \n",
    "    def set_state(self, state):\n",
    "        self.state = state\n",
    "        return self.state\n",
    "\n",
    "env = GredEnv()"
   ]
  },
  {
   "cell_type": "code",
   "execution_count": 57,
   "metadata": {},
   "outputs": [
    {
     "data": {
      "text/plain": [
       "(12, -1, False)"
      ]
     },
     "execution_count": 57,
     "metadata": {},
     "output_type": "execute_result"
    }
   ],
   "source": [
    "env.reset()\n",
    "action_map = {0:'up', 1:'left', 2:'down', 3:'right'}\n",
    "env.step(2)"
   ]
  },
  {
   "cell_type": "code",
   "execution_count": 59,
   "metadata": {},
   "outputs": [
    {
     "data": {
      "text/plain": [
       "array([[ 0.,  0.,  0.,  0.],\n",
       "       [-2., -1., -3., -3.],\n",
       "       [-3., -2., -4., -4.],\n",
       "       [-4., -3., -3., -4.],\n",
       "       [-1., -2., -3., -3.],\n",
       "       [-2., -2., -4., -4.],\n",
       "       [-3., -3., -3., -3.],\n",
       "       [-4., -4., -2., -3.],\n",
       "       [-2., -3., -4., -4.],\n",
       "       [-3., -3., -3., -3.],\n",
       "       [-4., -4., -2., -2.],\n",
       "       [-3., -3., -1., -2.],\n",
       "       [-3., -4., -4., -3.],\n",
       "       [-4., -4., -3., -2.],\n",
       "       [-3., -3., -2., -1.],\n",
       "       [ 0.,  0.,  0.,  0.]])"
      ]
     },
     "execution_count": 59,
     "metadata": {},
     "output_type": "execute_result"
    }
   ],
   "source": [
    "# Define value initalization function\n",
    "class Agent():\n",
    "    def __init__(self):\n",
    "        self.q_table = np.zeros((16,4))\n",
    "        self.gamma = 1\n",
    "    \n",
    "    def value_iteration(self, env, max_iteration=1000):\n",
    "        for i in range(max_iteration):\n",
    "            delta = 0\n",
    "            for state in env.States:\n",
    "                for action in env.Actions:\n",
    "                    v = self.q_table[state, action]\n",
    "                    env.set_state(state)\n",
    "                    next_state, reword, done = env.step(action)\n",
    "                    # print(next_state, reword, done)\n",
    "                    self.q_table[state, action] = reword + self.gamma * np.max(self.q_table[next_state])\n",
    "                    delta = max(delta, np.abs(v - self.q_table[state, action]))\n",
    "        return self.q_table\n",
    "\n",
    "agent = Agent()\n",
    "agent.value_iteration(env)"
   ]
  },
  {
   "cell_type": "code",
   "execution_count": 98,
   "metadata": {},
   "outputs": [],
   "source": [
    "import matplotlib.pyplot as plt\n",
    "# plot the value function of each state 4x4\n",
    "def plot_value_function(q_table):\n",
    "    value_function = np.zeros((4,4))\n",
    "    for state in env.States:\n",
    "        value_function[state // 4, state % 4] = np.max(q_table[state])\n",
    "    # add  values labes  to the plot\n",
    "    for i in range(4):\n",
    "        for j in range(4):\n",
    "            plt.text(i, j, str(value_function[i, j].round(2)), ha='center', va='center')\n",
    "    \n",
    "\n",
    "    # optimal actions at the each state\n",
    "    policy = np.zeros(16)\n",
    "    for i in range(16):\n",
    "        action = np.argmax(q_table[i])\n",
    "        policy[i] = action  \n",
    "    \n",
    "    # add arrows to the plot\n",
    "    # no arrow for terminal states\n",
    "    for i in range(16):\n",
    "        if i in env.Terminal:\n",
    "            continue\n",
    "        if policy[i] == 0:\n",
    "            plt.arrow(i % 4, i // 4, 0, -0.45, head_width=0.1, head_length=0.1)\n",
    "        elif policy[i] == 1:\n",
    "            plt.arrow(i % 4, i // 4, -0.45, 0, head_width=0.1, head_length=0.1)\n",
    "        elif policy[i] == 2:\n",
    "            plt.arrow(i % 4, i // 4, 0, 0.45, head_width=0.1, head_length=0.1)\n",
    "        elif policy[i] == 3:\n",
    "            plt.arrow(i % 4, i // 4, 0.45, 0, head_width=0.1, head_length=0.1)\n",
    "\n",
    "    \n",
    "\n",
    "    plt.imshow(value_function)\n",
    "    plt.colorbar()\n",
    "    plt.show()"
   ]
  },
  {
   "cell_type": "code",
   "execution_count": 99,
   "metadata": {},
   "outputs": [
    {
     "data": {
      "image/png": "[encoded data removed]",
      "text/plain": [
       "<Figure size 432x288 with 2 Axes>"
      ]
     },
     "metadata": {
      "needs_background": "light"
     },
     "output_type": "display_data"
    }
   ],
   "source": [
    "plot_value_function(agent.q_table)"
   ]
  }
 ],
 "metadata": {
  "kernelspec": {
   "display_name": "rl_env",
   "language": "python",
   "name": "rl_env"
  },
  "language_info": {
   "codemirror_mode": {
    "name": "ipython",
    "version": 3
   },
   "file_extension": ".py",
   "mimetype": "text/x-python",
   "name": "python",
   "nbconvert_exporter": "python",
   "pygments_lexer": "ipython3",
   "version": "3.9.12"
  },
  "orig_nbformat": 4,
  "vscode": {
   "interpreter": {
    "hash": "b145e5ea9011bac89345931558f2af53921f7d666ddf27a4050f751300ddd9a2"
   }
  }
 },
 "nbformat": 4,
 "nbformat_minor": 2
}
